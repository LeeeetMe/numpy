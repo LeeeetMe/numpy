{
 "cells": [
  {
   "cell_type": "markdown",
   "metadata": {},
   "source": [
    "### Ipython快捷键"
   ]
  },
  {
   "cell_type": "markdown",
   "metadata": {},
   "source": [
    "- ctrl a 移动光标到行首\n",
    "- ctrl e 移动光标到行尾\n",
    "- ctrl k 清除当前行光标后的所有字符\n",
    "- ctrl u 清除当前行光标前的字符\n",
    "- ctrl l 清屏\n",
    "- ctrl r 搜索输入记录\n",
    "- ctrl shift v 粘贴"
   ]
  },
  {
   "cell_type": "markdown",
   "metadata": {},
   "source": [
    "### 命令\n",
    "- %run xxx.py 运行脚本\n",
    "- %paste 粘贴并执行\n",
    "- %cpaste 持续粘贴，使用--结束粘贴，显示结果"
   ]
  },
  {
   "cell_type": "markdown",
   "metadata": {},
   "source": [
    "### 魔术命令\n",
    "- %timeit 查看执行时间(执行多次取平均时间)\n",
    "- %time 查看执行时间（执行一次）\n",
    "- %magic 显示所有魔术命令的详细文档\n",
    "- %hist  用来查看 IPython 命令的输入历史\n",
    "- %pdb  异常发生后自动进入调试器\n",
    "- %reset  删除当前命名空间中的全部变量或名称\n",
    "- %who  显示 IPython当前命名空间中已经定义的变量\n",
    "- %time statement 给出代码的执行时间，statement 便是一段代码\n",
    "- %timeit  statement 多次执行代码，计算综合平均执行时间\n",
    "- %run demo.py  用于运行.py程序\n",
    "- %resety 删除全部变量名"
   ]
  },
  {
   "cell_type": "code",
   "execution_count": 21,
   "metadata": {},
   "outputs": [
    {
     "name": "stdout",
     "output_type": "stream",
     "text": [
      "8.09 µs ± 548 ns per loop (mean ± std. dev. of 7 runs, 100000 loops each)\n"
     ]
    }
   ],
   "source": [
    "import numpy as np\n",
    "a = np.random.randn(50,50)\n",
    "%timeit np.dot(a,a)"
   ]
  },
  {
   "cell_type": "markdown",
   "metadata": {},
   "source": [
    "## 基于QT的富GUI控制台\n",
    " - jupyter qtconsole"
   ]
  },
  {
   "cell_type": "code",
   "execution_count": null,
   "metadata": {},
   "outputs": [],
   "source": []
  },
  {
   "cell_type": "code",
   "execution_count": null,
   "metadata": {},
   "outputs": [],
   "source": []
  }
 ],
 "metadata": {
  "kernelspec": {
   "display_name": "Python 3",
   "language": "python",
   "name": "python3"
  },
  "language_info": {
   "codemirror_mode": {
    "name": "ipython",
    "version": 3
   },
   "file_extension": ".py",
   "mimetype": "text/x-python",
   "name": "python",
   "nbconvert_exporter": "python",
   "pygments_lexer": "ipython3",
   "version": "3.7.1"
  }
 },
 "nbformat": 4,
 "nbformat_minor": 2
}
